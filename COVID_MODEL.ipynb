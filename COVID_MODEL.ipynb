{
  "nbformat": 4,
  "nbformat_minor": 0,
  "metadata": {
    "colab": {
      "name": "COVID MODEL.ipynb",
      "provenance": []
    },
    "kernelspec": {
      "name": "python3",
      "display_name": "Python 3"
    },
    "language_info": {
      "name": "python"
    }
  },
  "cells": [
    {
      "cell_type": "markdown",
      "metadata": {
        "id": "8q52hAnflmfH"
      },
      "source": [
        "# Imports\n"
      ]
    },
    {
      "cell_type": "code",
      "metadata": {
        "id": "mMh5D-KglkBt"
      },
      "source": [
        "import numpy as np\n",
        "from scipy.integrate import odeint\n",
        "import matplotlib.pyplot as plt"
      ],
      "execution_count": null,
      "outputs": []
    },
    {
      "cell_type": "markdown",
      "metadata": {
        "id": "Lb3CHmd3lnKJ"
      },
      "source": [
        "# SIR Model\n"
      ]
    },
    {
      "cell_type": "code",
      "metadata": {
        "id": "LPNOP2InlUNm"
      },
      "source": [
        "def SIR(N,I0,R0,beta,gamma,days=105):#105 days-15 weeks\n",
        "  '''\n",
        "  N- total Population\n",
        "  I0- Initial No. of infected people\n",
        "  R0- Initial No. of Recovered \n",
        "  beta-contact rate\n",
        "  gamma- recovery rate\n",
        "  days- no of days considered\n",
        "  '''\n",
        "  S0 = N - I0 - R0#intial no. of susceptipble people\n",
        "  \n",
        "  t = np.linspace(0, days, days)\n",
        "  def deriv(y, t, N, beta, gamma):\n",
        "      S, I, R = y\n",
        "      dSdt = -beta * S * I / N\n",
        "      dIdt = beta * S * I / N - gamma * I\n",
        "      dRdt = gamma * I\n",
        "      return dSdt, dIdt, dRdt\n",
        "  y0 = S0, I0, R0#feature vector\n",
        "  ret = odeint(deriv, y0, t, args=(N, beta, gamma))\n",
        "  S, I, R = ret.T\n",
        "  dIdt=beta * S * I / N - gamma * I\n",
        "  print(S[-1],I[-1],R[-1])\n",
        "\n",
        "  # Plot the data on three separate curves for S(t), I(t) and R(t)\n",
        "  fig = plt.figure(facecolor='w')\n",
        "  ax = fig.add_subplot(111, facecolor='#dddddd', axisbelow=True)\n",
        "  ax.plot(t, S/N*100, 'b', alpha=0.5, lw=2, label='Susceptible')\n",
        "  ax.plot(t, I/N*100, 'r', alpha=0.5, lw=2, label='Infected')\n",
        "  ax.plot(t, R/N*100, 'g', alpha=0.5, lw=2, label='Recovered with immunity')\n",
        "  ax.set_xlabel('Days')\n",
        "  ax.set_ylabel('Percentage of Population')\n",
        "  ax.set_ylim(-5,105)\n",
        "  ax.yaxis.set_tick_params(length=0)\n",
        "  ax.xaxis.set_tick_params(length=0)\n",
        "  ax.grid(b=True, which='major', c='w', lw=2, ls='-')\n",
        "  legend = ax.legend()\n",
        "  legend.get_frame().set_alpha(0.5)\n",
        "  for spine in ('top', 'right', 'bottom', 'left'):\n",
        "      ax.spines[spine].set_visible(False)\n",
        "  plt.show()\n",
        "  return dIdt"
      ],
      "execution_count": null,
      "outputs": []
    },
    {
      "cell_type": "code",
      "metadata": {
        "colab": {
          "base_uri": "https://localhost:8080/",
          "height": 292
        },
        "id": "_NLL7VqEnw_A",
        "outputId": "a134b3ed-e9ad-4a1b-cb57-b25e5f0a0e80"
      },
      "source": [
        "dIdt=SIR(7900000000,1,0,0.056,.045,3000)#beta gamma algeria"
      ],
      "execution_count": null,
      "outputs": [
        {
          "output_type": "stream",
          "text": [
            "5014347500.240125 11667.92441137489 2885640831.8354588\n"
          ],
          "name": "stdout"
        },
        {
          "output_type": "display_data",
          "data": {
            "image/png": "[encoded data removed]",
            "text/plain": [
              "<Figure size 432x288 with 1 Axes>"
            ]
          },
          "metadata": {
            "tags": []
          }
        }
      ]
    },
    {
      "cell_type": "code",
      "metadata": {
        "id": "YwFdPJ2gOxxY"
      },
      "source": [
        "#main Model\n",
        "S=['S0','S1','S2']\n",
        "A=['Exceed Threshold','Policy On','Policy Off'] #'Policy On','Policy Off' have probabilities theta to switch states"
      ],
      "execution_count": null,
      "outputs": []
    },
    {
      "cell_type": "code",
      "metadata": {
        "id": "ogC4YP5y1SAD"
      },
      "source": [
        "#POMDP\n",
        "S=[]#based on variables(u1,u2,u3,u4,5)\n",
        "A=[]#based on variables(u1,u2,u3,u4,5)\n",
        "O=[]\n",
        "T=[]\n",
        "Z=[]\n",
        "R=[]"
      ],
      "execution_count": null,
      "outputs": []
    },
    {
      "cell_type": "code",
      "metadata": {
        "id": "cCyBGugHjmEO"
      },
      "source": [
        "for el in dIdt:\n",
        "  if el>0:\n",
        "    print('state1')\n",
        "\n",
        "  else:\n",
        "    print('state2')\n",
        "  \n"
      ],
      "execution_count": null,
      "outputs": []
    },
    {
      "cell_type": "code",
      "metadata": {
        "id": "dR_yMjOkwvFf"
      },
      "source": [
        "S1=0\n",
        "I1=0\n",
        "R1=0\n",
        "S2=0\n",
        "I2=0\n",
        "R2=0\n",
        "sS=0\n",
        "sI=0\n",
        "n=0\n",
        "sR=0\n",
        "def SIR_dyn_bg(N,I0,R0,beta,gamma,days=105):#105 days-15 weeks\n",
        "  '''\n",
        "  N- total Population\n",
        "  I0- Initial No. of infected people\n",
        "  R0- Initial No. of Recovered \n",
        "  beta-contact rate\n",
        "  gamma- recovery rate\n",
        "  days- no of days considered\n",
        "  '''\n",
        "  S0 = N - I0 - R0#intial no. of susceptipble people\n",
        "  \n",
        "  t = np.linspace(0, days, days)\n",
        "  b0=0\n",
        "  g0=0\n",
        "  def deriv(y, t, N, beta, gamma):\n",
        "      S, I, R= y\n",
        "      global S1\n",
        "      global I1\n",
        "      global R1\n",
        "      global S2\n",
        "      global I2\n",
        "      global R2\n",
        "      global sS\n",
        "      global sI\n",
        "      global sR\n",
        "      global n\n",
        "      \n",
        "      n+=1 \n",
        "      #print(n)\n",
        "      \n",
        "      S2=S1\n",
        "      I2=I1\n",
        "      R2=R1\n",
        "      S1=S\n",
        "      I1=I\n",
        "      R1=R\n",
        "      sS+=S\n",
        "      sI+=I\n",
        "      if n>700:\n",
        "        #print('b')\n",
        "        beta=N*(S2-S1)/(S1*I1)\n",
        "        gamma=(R1-R2)/I1\n",
        "        \n",
        "               \n",
        "      #else:\n",
        "        #print('a')\n",
        "      #print(beta)\n",
        "      dSdt = -beta * S * I / N\n",
        "      dIdt = beta * S * I / N - gamma * I\n",
        "      dRdt = gamma * I   \n",
        "\n",
        "      n+=1 \n",
        "      \n",
        "      S2=S1\n",
        "      I2=I1\n",
        "      R2=R1\n",
        "      S1=S\n",
        "      I1=I\n",
        "      R1=R\n",
        "      sS+=S\n",
        "      sI+=I\n",
        "    \n",
        "      \n",
        "\n",
        "      return dSdt, dIdt, dRdt,\n",
        "\n",
        "  y0 = S0, I0, R0 #feature vector\n",
        "  ret = odeint(deriv, y0, t, args=(N, beta, gamma))\n",
        "  S, I, R = ret.T\n",
        "  dIdt=beta * S * I / N - gamma * I\n",
        "  print(S[-1],I[-1],R[-1])\n",
        "\n",
        "  \n",
        "\n",
        "  # Plot the data on three separate curves for S(t), I(t) and R(t)\n",
        "  fig = plt.figure(facecolor='w')\n",
        "  ax = fig.add_subplot(111, facecolor='#dddddd', axisbelow=True)\n",
        "  ax.plot(t, S/N*100, 'b', alpha=0.5, lw=2, label='Susceptible')\n",
        "  ax.plot(t, I/N*100, 'r', alpha=0.5, lw=2, label='Infected')\n",
        "  ax.plot(t, R/N*100, 'g', alpha=0.5, lw=2, label='Recovered with immunity')\n",
        "  ax.set_xlabel('Days')\n",
        "  ax.set_ylabel('Percentage of Population')\n",
        "  ax.set_ylim(-5,105)\n",
        "  ax.yaxis.set_tick_params(length=0)\n",
        "  ax.xaxis.set_tick_params(length=0)\n",
        "  ax.grid(b=True, which='major', c='w', lw=2, ls='-')\n",
        "  legend = ax.legend()\n",
        "  legend.get_frame().set_alpha(0.5)\n",
        "  for spine in ('top', 'right', 'bottom', 'left'):\n",
        "      ax.spines[spine].set_visible(False)\n",
        "  plt.show()\n",
        "  #return dIdt"
      ],
      "execution_count": null,
      "outputs": []
    },
    {
      "cell_type": "code",
      "metadata": {
        "colab": {
          "base_uri": "https://localhost:8080/",
          "height": 292
        },
        "id": "JIaNfSihx5SM",
        "outputId": "0ea2f536-8128-487e-f576-d7f0f5b94f53"
      },
      "source": [
        "SIR_dyn_bg(7900000000,1,0,0.056,.045,3000)"
      ],
      "execution_count": null,
      "outputs": [
        {
          "output_type": "stream",
          "text": [
            "5292566013.89032 64607775.895236224 2542826210.232428\n"
          ],
          "name": "stdout"
        },
        {
          "output_type": "display_data",
          "data": {
            "image/png": "[encoded data removed]",
            "text/plain": [
              "<Figure size 432x288 with 1 Axes>"
            ]
          },
          "metadata": {
            "tags": []
          }
        }
      ]
    },
    {
      "cell_type": "markdown",
      "metadata": {
        "id": "lJESXgDzdgVX"
      },
      "source": [
        "w/o dynamic beta gamma \n",
        "5014347500.240125 11667.92441137489 2885640831.8354588\n",
        "\n",
        "with dynamuc beta/gamma \n",
        "5292566013.89032 64607775.895236224 2542826210.232428"
      ]
    }
  ]
}